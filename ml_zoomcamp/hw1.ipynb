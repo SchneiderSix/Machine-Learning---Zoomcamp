{
 "cells": [
  {
   "cell_type": "code",
   "execution_count": 1,
   "id": "687b002b-b0f9-40a9-a6e0-70630056c5ca",
   "metadata": {},
   "outputs": [],
   "source": [
    "import numpy as np\n",
    "import pandas as pd"
   ]
  },
  {
   "cell_type": "markdown",
   "id": "ee1612fb-0c00-4104-ab62-99bb4fc6b077",
   "metadata": {},
   "source": [
    "Crate dataframe based on csv"
   ]
  },
  {
   "cell_type": "code",
   "execution_count": 61,
   "id": "6a14721d-e5b6-4141-9bcd-c73bea11ae94",
   "metadata": {},
   "outputs": [
    {
     "data": {
      "text/html": [
       "<div>\n",
       "<style scoped>\n",
       "    .dataframe tbody tr th:only-of-type {\n",
       "        vertical-align: middle;\n",
       "    }\n",
       "\n",
       "    .dataframe tbody tr th {\n",
       "        vertical-align: top;\n",
       "    }\n",
       "\n",
       "    .dataframe thead th {\n",
       "        text-align: right;\n",
       "    }\n",
       "</style>\n",
       "<table border=\"1\" class=\"dataframe\">\n",
       "  <thead>\n",
       "    <tr style=\"text-align: right;\">\n",
       "      <th></th>\n",
       "      <th>Laptop</th>\n",
       "      <th>Status</th>\n",
       "      <th>Brand</th>\n",
       "      <th>Model</th>\n",
       "      <th>CPU</th>\n",
       "      <th>RAM</th>\n",
       "      <th>Storage</th>\n",
       "      <th>Storage type</th>\n",
       "      <th>GPU</th>\n",
       "      <th>Screen</th>\n",
       "      <th>Touch</th>\n",
       "      <th>Final Price</th>\n",
       "    </tr>\n",
       "  </thead>\n",
       "  <tbody>\n",
       "    <tr>\n",
       "      <th>0</th>\n",
       "      <td>ASUS ExpertBook B1 B1502CBA-EJ0436X Intel Core...</td>\n",
       "      <td>New</td>\n",
       "      <td>Asus</td>\n",
       "      <td>ExpertBook</td>\n",
       "      <td>Intel Core i5</td>\n",
       "      <td>8</td>\n",
       "      <td>512</td>\n",
       "      <td>SSD</td>\n",
       "      <td>NaN</td>\n",
       "      <td>15.6</td>\n",
       "      <td>No</td>\n",
       "      <td>1009.00</td>\n",
       "    </tr>\n",
       "    <tr>\n",
       "      <th>1</th>\n",
       "      <td>Alurin Go Start Intel Celeron N4020/8GB/256GB ...</td>\n",
       "      <td>New</td>\n",
       "      <td>Alurin</td>\n",
       "      <td>Go</td>\n",
       "      <td>Intel Celeron</td>\n",
       "      <td>8</td>\n",
       "      <td>256</td>\n",
       "      <td>SSD</td>\n",
       "      <td>NaN</td>\n",
       "      <td>15.6</td>\n",
       "      <td>No</td>\n",
       "      <td>299.00</td>\n",
       "    </tr>\n",
       "    <tr>\n",
       "      <th>2</th>\n",
       "      <td>ASUS ExpertBook B1 B1502CBA-EJ0424X Intel Core...</td>\n",
       "      <td>New</td>\n",
       "      <td>Asus</td>\n",
       "      <td>ExpertBook</td>\n",
       "      <td>Intel Core i3</td>\n",
       "      <td>8</td>\n",
       "      <td>256</td>\n",
       "      <td>SSD</td>\n",
       "      <td>NaN</td>\n",
       "      <td>15.6</td>\n",
       "      <td>No</td>\n",
       "      <td>789.00</td>\n",
       "    </tr>\n",
       "    <tr>\n",
       "      <th>3</th>\n",
       "      <td>MSI Katana GF66 12UC-082XES Intel Core i7-1270...</td>\n",
       "      <td>New</td>\n",
       "      <td>MSI</td>\n",
       "      <td>Katana</td>\n",
       "      <td>Intel Core i7</td>\n",
       "      <td>16</td>\n",
       "      <td>1000</td>\n",
       "      <td>SSD</td>\n",
       "      <td>RTX 3050</td>\n",
       "      <td>15.6</td>\n",
       "      <td>No</td>\n",
       "      <td>1199.00</td>\n",
       "    </tr>\n",
       "    <tr>\n",
       "      <th>4</th>\n",
       "      <td>HP 15S-FQ5085NS Intel Core i5-1235U/16GB/512GB...</td>\n",
       "      <td>New</td>\n",
       "      <td>HP</td>\n",
       "      <td>15S</td>\n",
       "      <td>Intel Core i5</td>\n",
       "      <td>16</td>\n",
       "      <td>512</td>\n",
       "      <td>SSD</td>\n",
       "      <td>NaN</td>\n",
       "      <td>15.6</td>\n",
       "      <td>No</td>\n",
       "      <td>669.01</td>\n",
       "    </tr>\n",
       "    <tr>\n",
       "      <th>5</th>\n",
       "      <td>MSI Crosshair 17 C12VF-264XES Intel Core i7-12...</td>\n",
       "      <td>New</td>\n",
       "      <td>MSI</td>\n",
       "      <td>Crosshair</td>\n",
       "      <td>Intel Core i7</td>\n",
       "      <td>32</td>\n",
       "      <td>1000</td>\n",
       "      <td>SSD</td>\n",
       "      <td>RTX 4060</td>\n",
       "      <td>17.3</td>\n",
       "      <td>No</td>\n",
       "      <td>1699.00</td>\n",
       "    </tr>\n",
       "    <tr>\n",
       "      <th>6</th>\n",
       "      <td>Lenovo Thinkpad E14 Gen 4 AMD Ryzen 5 5625U/8G...</td>\n",
       "      <td>New</td>\n",
       "      <td>Lenovo</td>\n",
       "      <td>ThinkPad</td>\n",
       "      <td>AMD Ryzen 5</td>\n",
       "      <td>8</td>\n",
       "      <td>256</td>\n",
       "      <td>SSD</td>\n",
       "      <td>NaN</td>\n",
       "      <td>14.0</td>\n",
       "      <td>No</td>\n",
       "      <td>909.00</td>\n",
       "    </tr>\n",
       "    <tr>\n",
       "      <th>7</th>\n",
       "      <td>ASUS VivoBook 15 F515JA-EJ2882W Intel Core i7-...</td>\n",
       "      <td>New</td>\n",
       "      <td>Asus</td>\n",
       "      <td>VivoBook</td>\n",
       "      <td>Intel Core i7</td>\n",
       "      <td>8</td>\n",
       "      <td>512</td>\n",
       "      <td>SSD</td>\n",
       "      <td>NaN</td>\n",
       "      <td>15.6</td>\n",
       "      <td>No</td>\n",
       "      <td>809.01</td>\n",
       "    </tr>\n",
       "    <tr>\n",
       "      <th>8</th>\n",
       "      <td>Medion Akoya E15415 Intel Core i5-10210U/8GB/2...</td>\n",
       "      <td>New</td>\n",
       "      <td>Medion</td>\n",
       "      <td>Akoya</td>\n",
       "      <td>Intel Core i5</td>\n",
       "      <td>8</td>\n",
       "      <td>256</td>\n",
       "      <td>SSD</td>\n",
       "      <td>NaN</td>\n",
       "      <td>15.6</td>\n",
       "      <td>No</td>\n",
       "      <td>519.00</td>\n",
       "    </tr>\n",
       "    <tr>\n",
       "      <th>9</th>\n",
       "      <td>HP Victus 16-d1038ns Intel Core i7-12700H/16GB...</td>\n",
       "      <td>New</td>\n",
       "      <td>HP</td>\n",
       "      <td>Victus</td>\n",
       "      <td>Intel Core i7</td>\n",
       "      <td>16</td>\n",
       "      <td>512</td>\n",
       "      <td>SSD</td>\n",
       "      <td>RTX 3050</td>\n",
       "      <td>16.1</td>\n",
       "      <td>No</td>\n",
       "      <td>1149.00</td>\n",
       "    </tr>\n",
       "  </tbody>\n",
       "</table>\n",
       "</div>"
      ],
      "text/plain": [
       "                                              Laptop Status   Brand  \\\n",
       "0  ASUS ExpertBook B1 B1502CBA-EJ0436X Intel Core...    New    Asus   \n",
       "1  Alurin Go Start Intel Celeron N4020/8GB/256GB ...    New  Alurin   \n",
       "2  ASUS ExpertBook B1 B1502CBA-EJ0424X Intel Core...    New    Asus   \n",
       "3  MSI Katana GF66 12UC-082XES Intel Core i7-1270...    New     MSI   \n",
       "4  HP 15S-FQ5085NS Intel Core i5-1235U/16GB/512GB...    New      HP   \n",
       "5  MSI Crosshair 17 C12VF-264XES Intel Core i7-12...    New     MSI   \n",
       "6  Lenovo Thinkpad E14 Gen 4 AMD Ryzen 5 5625U/8G...    New  Lenovo   \n",
       "7  ASUS VivoBook 15 F515JA-EJ2882W Intel Core i7-...    New    Asus   \n",
       "8  Medion Akoya E15415 Intel Core i5-10210U/8GB/2...    New  Medion   \n",
       "9  HP Victus 16-d1038ns Intel Core i7-12700H/16GB...    New      HP   \n",
       "\n",
       "        Model            CPU  RAM  Storage Storage type       GPU  Screen  \\\n",
       "0  ExpertBook  Intel Core i5    8      512          SSD       NaN    15.6   \n",
       "1          Go  Intel Celeron    8      256          SSD       NaN    15.6   \n",
       "2  ExpertBook  Intel Core i3    8      256          SSD       NaN    15.6   \n",
       "3      Katana  Intel Core i7   16     1000          SSD  RTX 3050    15.6   \n",
       "4         15S  Intel Core i5   16      512          SSD       NaN    15.6   \n",
       "5   Crosshair  Intel Core i7   32     1000          SSD  RTX 4060    17.3   \n",
       "6    ThinkPad    AMD Ryzen 5    8      256          SSD       NaN    14.0   \n",
       "7    VivoBook  Intel Core i7    8      512          SSD       NaN    15.6   \n",
       "8       Akoya  Intel Core i5    8      256          SSD       NaN    15.6   \n",
       "9      Victus  Intel Core i7   16      512          SSD  RTX 3050    16.1   \n",
       "\n",
       "  Touch  Final Price  \n",
       "0    No      1009.00  \n",
       "1    No       299.00  \n",
       "2    No       789.00  \n",
       "3    No      1199.00  \n",
       "4    No       669.01  \n",
       "5    No      1699.00  \n",
       "6    No       909.00  \n",
       "7    No       809.01  \n",
       "8    No       519.00  \n",
       "9    No      1149.00  "
      ]
     },
     "execution_count": 61,
     "metadata": {},
     "output_type": "execute_result"
    }
   ],
   "source": [
    "df = pd.read_csv('../datasets/laptops.csv')\n",
    "df.head(10)"
   ]
  },
  {
   "cell_type": "markdown",
   "id": "5450e040-f180-43df-9641-92032920e1c7",
   "metadata": {},
   "source": [
    "Count records"
   ]
  },
  {
   "cell_type": "code",
   "execution_count": 62,
   "id": "b82e820a-dd8f-49b4-9aef-1703b41b27d6",
   "metadata": {},
   "outputs": [
    {
     "data": {
      "text/plain": [
       "RangeIndex(start=0, stop=2160, step=1)"
      ]
     },
     "execution_count": 62,
     "metadata": {},
     "output_type": "execute_result"
    }
   ],
   "source": [
    "df.index"
   ]
  },
  {
   "cell_type": "markdown",
   "id": "e39dbf77-5715-4f63-910e-53c9382c24d1",
   "metadata": {},
   "source": [
    "Laptop brands"
   ]
  },
  {
   "cell_type": "code",
   "execution_count": 63,
   "id": "fd1d9d2d-3172-4ee5-bd3a-c0b4139470da",
   "metadata": {},
   "outputs": [
    {
     "data": {
      "text/plain": [
       "27"
      ]
     },
     "execution_count": 63,
     "metadata": {},
     "output_type": "execute_result"
    }
   ],
   "source": [
    "df.Brand.nunique()"
   ]
  },
  {
   "cell_type": "markdown",
   "id": "ed276955-37f1-4334-988b-4f7bc5a02bc5",
   "metadata": {},
   "source": [
    "Missing values"
   ]
  },
  {
   "cell_type": "code",
   "execution_count": 64,
   "id": "8e9fcec3-db57-4e62-9c83-3e90b8c26da6",
   "metadata": {},
   "outputs": [
    {
     "data": {
      "text/plain": [
       "Laptop             0\n",
       "Status             0\n",
       "Brand              0\n",
       "Model              0\n",
       "CPU                0\n",
       "RAM                0\n",
       "Storage            0\n",
       "Storage type      42\n",
       "GPU             1371\n",
       "Screen             4\n",
       "Touch              0\n",
       "Final Price        0\n",
       "dtype: int64"
      ]
     },
     "execution_count": 64,
     "metadata": {},
     "output_type": "execute_result"
    }
   ],
   "source": [
    "df.isnull().sum()"
   ]
  },
  {
   "cell_type": "markdown",
   "id": "fcfde64b-db2f-4338-8573-c5a96cd917a7",
   "metadata": {},
   "source": [
    "Maximum final price of Dell notebooks"
   ]
  },
  {
   "cell_type": "code",
   "execution_count": 65,
   "id": "44c28221-d572-4726-83dd-9772c80a7aa9",
   "metadata": {},
   "outputs": [
    {
     "data": {
      "text/plain": [
       "np.float64(3936.0)"
      ]
     },
     "execution_count": 65,
     "metadata": {},
     "output_type": "execute_result"
    }
   ],
   "source": [
    "dfDell = df[\n",
    "    df.Brand=='Dell'\n",
    "]\n",
    "dfDell['Final Price'].max()"
   ]
  },
  {
   "cell_type": "markdown",
   "id": "85fbbada-45a7-4ebe-80b1-91ffd14a1032",
   "metadata": {},
   "source": [
    "Median value of Screen column"
   ]
  },
  {
   "cell_type": "code",
   "execution_count": 66,
   "id": "2db46634-116d-445f-917e-7b163136be9a",
   "metadata": {},
   "outputs": [
    {
     "name": "stdout",
     "output_type": "stream",
     "text": [
      "same\n"
     ]
    }
   ],
   "source": [
    "screen_median = df.Screen.median()\n",
    "screen_most_frequent = df.Screen.mode()[0]\n",
    "screen_nmissing = df.Screen.fillna(screen_most_frequent)\n",
    "\n",
    "if screen_median == screen_nmissing.median():\n",
    "    print('same')\n",
    "\n",
    "df.Screen = screen_nmissing"
   ]
  },
  {
   "cell_type": "markdown",
   "id": "34802024-fdc7-48ce-a0e6-6289b0f345ae",
   "metadata": {},
   "source": [
    "Sum of weights"
   ]
  },
  {
   "cell_type": "code",
   "execution_count": 108,
   "id": "22a61a7b-38ef-4865-a9b0-01de8825bc22",
   "metadata": {},
   "outputs": [
    {
     "data": {
      "text/plain": [
       "np.float64(91.2998806299555)"
      ]
     },
     "execution_count": 108,
     "metadata": {},
     "output_type": "execute_result"
    }
   ],
   "source": [
    "X = df[\n",
    "df[\"Brand\"] == 'Innjoo' \n",
    "][['RAM', 'Storage', 'Screen']].to_numpy()\n",
    "\n",
    "y = [1100, 1300, 800, 900, 1000, 1100]\n",
    "\n",
    "#XTX = X.transpose().dot(X), below example is more elegant\n",
    "#@ uses matmul method, from numpy.dot() docs\n",
    "#If both a and b are 2-D arrays, it is matrix multiplication, but using matmul or a @ b is preferred\n",
    "XTX = X.T@X\n",
    "XTX_inv=np.linalg.inv(XTX)\n",
    "\n",
    "w = (XTX_inv@X.T).dot(y)\n",
    "w.sum()"
   ]
  },
  {
   "cell_type": "code",
   "execution_count": 112,
   "id": "4e95b275-6cf8-4e45-8217-27d79d8b455f",
   "metadata": {},
   "outputs": [
    {
     "data": {
      "text/plain": [
       "'2.2.2'"
      ]
     },
     "execution_count": 112,
     "metadata": {},
     "output_type": "execute_result"
    }
   ],
   "source": [
    "pd.__version__"
   ]
  }
 ],
 "metadata": {
  "kernelspec": {
   "display_name": "Python 3 (ipykernel)",
   "language": "python",
   "name": "python3"
  },
  "language_info": {
   "codemirror_mode": {
    "name": "ipython",
    "version": 3
   },
   "file_extension": ".py",
   "mimetype": "text/x-python",
   "name": "python",
   "nbconvert_exporter": "python",
   "pygments_lexer": "ipython3",
   "version": "3.12.2"
  }
 },
 "nbformat": 4,
 "nbformat_minor": 5
}
