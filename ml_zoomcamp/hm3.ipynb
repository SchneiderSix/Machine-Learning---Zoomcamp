{
 "cells": [
  {
   "cell_type": "code",
   "execution_count": 1,
   "id": "9357f221-d22b-4961-a3ea-090723b73d6d",
   "metadata": {},
   "outputs": [],
   "source": [
    "import pandas as pd\n",
    "import numpy as np\n",
    "\n",
    "import matplotlib.pyplot as plt\n",
    "%matplotlib inline"
   ]
  },
  {
   "cell_type": "code",
   "execution_count": 4,
   "id": "d19f7279-e670-44f8-bb95-64991196fc5b",
   "metadata": {},
   "outputs": [],
   "source": [
    "df = pd.read_csv('../datasets/cars.csv')"
   ]
  },
  {
   "cell_type": "markdown",
   "id": "0569407f-98ea-4e5c-89ac-08a8126b4ef8",
   "metadata": {},
   "source": [
    "Features"
   ]
  },
  {
   "cell_type": "code",
   "execution_count": 5,
   "id": "fb72bca7-de95-4709-b1af-1d6ff2bb1f80",
   "metadata": {},
   "outputs": [],
   "source": [
    "current_features = [\n",
    "    'Make', 'Model', 'Year', 'Engine HP', 'Engine Cylinders', 'Transmission Type', 'Vehicle Style', 'highway MPG', 'city mpg', 'MSRP'\n",
    "]"
   ]
  },
  {
   "cell_type": "markdown",
   "id": "1e8a1c29-6c2b-49eb-a93a-f0923b4986be",
   "metadata": {},
   "source": [
    "Data preparation"
   ]
  },
  {
   "cell_type": "code",
   "execution_count": 11,
   "id": "c575a4ec-5c17-4e0f-aab7-da69327bdd77",
   "metadata": {},
   "outputs": [
    {
     "data": {
      "text/plain": [
       "Index(['make', 'model', 'year', 'engine_fuel_type', 'engine_hp',\n",
       "       'engine_cylinders', 'transmission_type', 'driven_wheels',\n",
       "       'number_of_doors', 'market_category', 'vehicle_size', 'vehicle_style',\n",
       "       'highway_mpg', 'city_mpg', 'popularity', 'price'],\n",
       "      dtype='object')"
      ]
     },
     "execution_count": 11,
     "metadata": {},
     "output_type": "execute_result"
    }
   ],
   "source": [
    "df.columns = df.columns.str.replace(' ', '_').str.lower().str.replace('msrp', 'price')\n",
    "current_features = [i.replace(' ', '_').lower().replace('msrp', 'price') for i in current_features]\n",
    "\n",
    "df.columns"
   ]
  },
  {
   "cell_type": "markdown",
   "id": "8b856725-98b2-485b-951f-0840adb26859",
   "metadata": {},
   "source": [
    "Most frequent value"
   ]
  },
  {
   "cell_type": "code",
   "execution_count": 23,
   "id": "7de2c4e3-36da-4db5-81dc-6731659eda15",
   "metadata": {},
   "outputs": [
    {
     "data": {
      "text/plain": [
       "0    AUTOMATIC\n",
       "Name: transmission_type, dtype: object"
      ]
     },
     "execution_count": 23,
     "metadata": {},
     "output_type": "execute_result"
    }
   ],
   "source": [
    "df.transmission_type.mode()"
   ]
  },
  {
   "cell_type": "code",
   "execution_count": 24,
   "id": "85638067-304b-4743-a47d-989cc07d08a8",
   "metadata": {},
   "outputs": [
    {
     "data": {
      "text/html": [
       "<div>\n",
       "<style scoped>\n",
       "    .dataframe tbody tr th:only-of-type {\n",
       "        vertical-align: middle;\n",
       "    }\n",
       "\n",
       "    .dataframe tbody tr th {\n",
       "        vertical-align: top;\n",
       "    }\n",
       "\n",
       "    .dataframe thead th {\n",
       "        text-align: right;\n",
       "    }\n",
       "</style>\n",
       "<table border=\"1\" class=\"dataframe\">\n",
       "  <thead>\n",
       "    <tr style=\"text-align: right;\">\n",
       "      <th></th>\n",
       "      <th>make</th>\n",
       "      <th>model</th>\n",
       "      <th>year</th>\n",
       "      <th>engine_hp</th>\n",
       "      <th>engine_cylinders</th>\n",
       "      <th>transmission_type</th>\n",
       "      <th>vehicle_style</th>\n",
       "      <th>highway_mpg</th>\n",
       "      <th>city_mpg</th>\n",
       "      <th>price</th>\n",
       "    </tr>\n",
       "  </thead>\n",
       "  <tbody>\n",
       "    <tr>\n",
       "      <th>0</th>\n",
       "      <td>BMW</td>\n",
       "      <td>1 Series M</td>\n",
       "      <td>2011</td>\n",
       "      <td>335.0</td>\n",
       "      <td>6.0</td>\n",
       "      <td>MANUAL</td>\n",
       "      <td>Coupe</td>\n",
       "      <td>26</td>\n",
       "      <td>19</td>\n",
       "      <td>46135</td>\n",
       "    </tr>\n",
       "    <tr>\n",
       "      <th>1</th>\n",
       "      <td>BMW</td>\n",
       "      <td>1 Series</td>\n",
       "      <td>2011</td>\n",
       "      <td>300.0</td>\n",
       "      <td>6.0</td>\n",
       "      <td>MANUAL</td>\n",
       "      <td>Convertible</td>\n",
       "      <td>28</td>\n",
       "      <td>19</td>\n",
       "      <td>40650</td>\n",
       "    </tr>\n",
       "    <tr>\n",
       "      <th>2</th>\n",
       "      <td>BMW</td>\n",
       "      <td>1 Series</td>\n",
       "      <td>2011</td>\n",
       "      <td>300.0</td>\n",
       "      <td>6.0</td>\n",
       "      <td>MANUAL</td>\n",
       "      <td>Coupe</td>\n",
       "      <td>28</td>\n",
       "      <td>20</td>\n",
       "      <td>36350</td>\n",
       "    </tr>\n",
       "    <tr>\n",
       "      <th>3</th>\n",
       "      <td>BMW</td>\n",
       "      <td>1 Series</td>\n",
       "      <td>2011</td>\n",
       "      <td>230.0</td>\n",
       "      <td>6.0</td>\n",
       "      <td>MANUAL</td>\n",
       "      <td>Coupe</td>\n",
       "      <td>28</td>\n",
       "      <td>18</td>\n",
       "      <td>29450</td>\n",
       "    </tr>\n",
       "    <tr>\n",
       "      <th>4</th>\n",
       "      <td>BMW</td>\n",
       "      <td>1 Series</td>\n",
       "      <td>2011</td>\n",
       "      <td>230.0</td>\n",
       "      <td>6.0</td>\n",
       "      <td>MANUAL</td>\n",
       "      <td>Convertible</td>\n",
       "      <td>28</td>\n",
       "      <td>18</td>\n",
       "      <td>34500</td>\n",
       "    </tr>\n",
       "  </tbody>\n",
       "</table>\n",
       "</div>"
      ],
      "text/plain": [
       "  make       model  year  engine_hp  engine_cylinders transmission_type  \\\n",
       "0  BMW  1 Series M  2011      335.0               6.0            MANUAL   \n",
       "1  BMW    1 Series  2011      300.0               6.0            MANUAL   \n",
       "2  BMW    1 Series  2011      300.0               6.0            MANUAL   \n",
       "3  BMW    1 Series  2011      230.0               6.0            MANUAL   \n",
       "4  BMW    1 Series  2011      230.0               6.0            MANUAL   \n",
       "\n",
       "  vehicle_style  highway_mpg  city_mpg  price  \n",
       "0         Coupe           26        19  46135  \n",
       "1   Convertible           28        19  40650  \n",
       "2         Coupe           28        20  36350  \n",
       "3         Coupe           28        18  29450  \n",
       "4   Convertible           28        18  34500  "
      ]
     },
     "execution_count": 24,
     "metadata": {},
     "output_type": "execute_result"
    }
   ],
   "source": [
    "df[current_features].head()"
   ]
  },
  {
   "cell_type": "code",
   "execution_count": 25,
   "id": "885448da-3c8f-4998-80f9-45a26b2c9a5d",
   "metadata": {},
   "outputs": [],
   "source": [
    "numerical = [\n",
    "    'year', 'engine_hp', 'engine_cylinders', 'highway_mpg', 'city_mpg'\n",
    "]"
   ]
  },
  {
   "cell_type": "markdown",
   "id": "4d0881be-6903-43bd-8f59-1b6e9ae56ec0",
   "metadata": {},
   "source": [
    "Correlation matrix"
   ]
  },
  {
   "cell_type": "code",
   "execution_count": 27,
   "id": "1525a82d-84b5-45da-8ed7-019d0d844c1a",
   "metadata": {},
   "outputs": [
    {
     "name": "stdout",
     "output_type": "stream",
     "text": [
      "---year---\n",
      "year                1.000000\n",
      "engine_hp           0.351794\n",
      "engine_cylinders    0.041479\n",
      "highway_mpg         0.258240\n",
      "city_mpg            0.198171\n",
      "dtype: float64\n",
      "---engine_hp---\n",
      "year                0.351794\n",
      "engine_hp           1.000000\n",
      "engine_cylinders    0.779988\n",
      "highway_mpg         0.406563\n",
      "city_mpg            0.439371\n",
      "dtype: float64\n",
      "---engine_cylinders---\n",
      "year                0.041479\n",
      "engine_hp           0.779988\n",
      "engine_cylinders    1.000000\n",
      "highway_mpg         0.621606\n",
      "city_mpg            0.600776\n",
      "dtype: float64\n",
      "---highway_mpg---\n",
      "year                0.258240\n",
      "engine_hp           0.406563\n",
      "engine_cylinders    0.621606\n",
      "highway_mpg         1.000000\n",
      "city_mpg            0.886829\n",
      "dtype: float64\n",
      "---city_mpg---\n",
      "year                0.198171\n",
      "engine_hp           0.439371\n",
      "engine_cylinders    0.600776\n",
      "highway_mpg         0.886829\n",
      "city_mpg            1.000000\n",
      "dtype: float64\n"
     ]
    }
   ],
   "source": [
    "for i in numerical:\n",
    "    print('---'+i+'---')\n",
    "    print(df[numerical].corrwith(df[''+i]).abs())"
   ]
  },
  {
   "cell_type": "markdown",
   "id": "1a1ed923-8631-49a8-80f5-cc5f6b412f33",
   "metadata": {},
   "source": [
    "highway_mpg/city_mpg"
   ]
  },
  {
   "cell_type": "markdown",
   "id": "6270a59e-0bf0-4251-b2f0-98bdb36b81f2",
   "metadata": {},
   "source": [
    "Binary series"
   ]
  },
  {
   "cell_type": "code",
   "execution_count": 28,
   "id": "74ce77f0-69de-4207-b3b9-1e553f63e609",
   "metadata": {},
   "outputs": [],
   "source": [
    "above_average = (df.price.values > df.price.mean())"
   ]
  },
  {
   "cell_type": "code",
   "execution_count": 29,
   "id": "34951c17-4d73-4e91-b3d5-a424d394e496",
   "metadata": {},
   "outputs": [
    {
     "data": {
      "text/plain": [
       "(7148, 2383, 2383)"
      ]
     },
     "execution_count": 29,
     "metadata": {},
     "output_type": "execute_result"
    }
   ],
   "source": [
    "from sklearn.model_selection import train_test_split\n",
    "\n",
    "df_full_train, df_test = train_test_split(df, test_size=0.2, random_state=42)\n",
    "df_train, df_val = train_test_split(df_full_train, test_size=0.25, random_state=42)\n",
    "\n",
    "len(df_train), len(df_val), len(df_test)"
   ]
  },
  {
   "cell_type": "code",
   "execution_count": null,
   "id": "41b6557b-35c2-48d8-8390-6081bc3c773b",
   "metadata": {},
   "outputs": [],
   "source": []
  }
 ],
 "metadata": {
  "kernelspec": {
   "display_name": "Python 3 (ipykernel)",
   "language": "python",
   "name": "python3"
  },
  "language_info": {
   "codemirror_mode": {
    "name": "ipython",
    "version": 3
   },
   "file_extension": ".py",
   "mimetype": "text/x-python",
   "name": "python",
   "nbconvert_exporter": "python",
   "pygments_lexer": "ipython3",
   "version": "3.12.2"
  }
 },
 "nbformat": 4,
 "nbformat_minor": 5
}
